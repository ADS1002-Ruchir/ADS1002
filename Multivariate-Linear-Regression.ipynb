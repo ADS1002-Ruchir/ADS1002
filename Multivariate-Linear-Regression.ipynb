{
 "cells": [
  {
   "cell_type": "markdown",
   "metadata": {},
   "source": [
    "## Multivariate Linear Regression \n",
    "\n",
    "* Topic: Supervised machine learning\n",
    "* Unit: ADS1002\n",
    "* Level: Beginner\n",
    "* Authors: Simon Bowly, Kaustav Das\n",
    "* Version: 4.0.1\n",
    "\n",
    "Required files (download these from [the Gitlab site](https://gitlab.erc.monash.edu.au/bads/data-challenges-resources/-/tree/main/Machine-Learning/Supervised-Methods/Regression) into the same directory as the notebook on your computer):\n",
    "\n",
    "* [Diabetes_Data.csv](https://gitlab.erc.monash.edu.au/bads/data-challenges-resources/-/tree/main/Machine-Learning/Supervised-Methods/Regression/Diabetes_Data.csv)\n",
    "\n",
    "The objective of this notebook is to demonstrate how to build linear regression models with many features, extending the simple one- and two-variable regression models we have looked at so far. We'll use the model fitting methods in `sklearn` to determine the model parameters, and perform train-test splitting in order to assess the generalisabilty of the fitted models. We'll also look at the impact of feature normalisation on model parameters."
   ]
  },
  {
   "cell_type": "code",
   "execution_count": 1,
   "metadata": {},
   "outputs": [],
   "source": [
    "import pandas as pd\n",
    "import numpy as np\n",
    "from matplotlib import pyplot as plt\n",
    "from sklearn.model_selection import train_test_split # for splitting the data into training and testing sets\n",
    "from sklearn.linear_model import LinearRegression # models we are going to use\n",
    "from sklearn.metrics import r2_score, mean_squared_error, mean_absolute_error # for comparing the predicted and test values\n",
    "import seaborn as sns\n",
    "\n",
    "df = pd.read_csv('Diabetes_Data.csv', usecols = range(0,11)) # read the Diabetes dataset in to a pandas dataframe"
   ]
  },
  {
   "cell_type": "markdown",
   "metadata": {},
   "source": [
    "### Data Analysis\n",
    "\n",
    "`BP` is blood pressure, `BMI` is body mass index (healthy range for adults is 18.5 to 25) and `S1`-`S6` are various blood serum measurements. `Y` is the target variable, and is a measure of disease progression one year after the original measurements. Aim is to predict `Y` from the other variables.\n",
    "\n",
    "We can look at the first few values of the variables, and at the descriptive statistics."
   ]
  },
  {
   "cell_type": "code",
   "execution_count": 2,
   "metadata": {},
   "outputs": [
    {
     "data": {
      "text/html": [
       "<div>\n",
       "<style scoped>\n",
       "    .dataframe tbody tr th:only-of-type {\n",
       "        vertical-align: middle;\n",
       "    }\n",
       "\n",
       "    .dataframe tbody tr th {\n",
       "        vertical-align: top;\n",
       "    }\n",
       "\n",
       "    .dataframe thead th {\n",
       "        text-align: right;\n",
       "    }\n",
       "</style>\n",
       "<table border=\"1\" class=\"dataframe\">\n",
       "  <thead>\n",
       "    <tr style=\"text-align: right;\">\n",
       "      <th></th>\n",
       "      <th>AGE</th>\n",
       "      <th>SEX</th>\n",
       "      <th>BMI</th>\n",
       "      <th>BP</th>\n",
       "      <th>S1</th>\n",
       "      <th>S2</th>\n",
       "      <th>S3</th>\n",
       "      <th>S4</th>\n",
       "      <th>S5</th>\n",
       "      <th>S6</th>\n",
       "      <th>Y</th>\n",
       "    </tr>\n",
       "  </thead>\n",
       "  <tbody>\n",
       "    <tr>\n",
       "      <th>0</th>\n",
       "      <td>59</td>\n",
       "      <td>2</td>\n",
       "      <td>32.1</td>\n",
       "      <td>101.0</td>\n",
       "      <td>157</td>\n",
       "      <td>93.2</td>\n",
       "      <td>38.0</td>\n",
       "      <td>4.0</td>\n",
       "      <td>4.8598</td>\n",
       "      <td>87</td>\n",
       "      <td>151</td>\n",
       "    </tr>\n",
       "    <tr>\n",
       "      <th>1</th>\n",
       "      <td>48</td>\n",
       "      <td>1</td>\n",
       "      <td>21.6</td>\n",
       "      <td>87.0</td>\n",
       "      <td>183</td>\n",
       "      <td>103.2</td>\n",
       "      <td>70.0</td>\n",
       "      <td>3.0</td>\n",
       "      <td>3.8918</td>\n",
       "      <td>69</td>\n",
       "      <td>75</td>\n",
       "    </tr>\n",
       "    <tr>\n",
       "      <th>2</th>\n",
       "      <td>72</td>\n",
       "      <td>2</td>\n",
       "      <td>30.5</td>\n",
       "      <td>93.0</td>\n",
       "      <td>156</td>\n",
       "      <td>93.6</td>\n",
       "      <td>41.0</td>\n",
       "      <td>4.0</td>\n",
       "      <td>4.6728</td>\n",
       "      <td>85</td>\n",
       "      <td>141</td>\n",
       "    </tr>\n",
       "    <tr>\n",
       "      <th>3</th>\n",
       "      <td>24</td>\n",
       "      <td>1</td>\n",
       "      <td>25.3</td>\n",
       "      <td>84.0</td>\n",
       "      <td>198</td>\n",
       "      <td>131.4</td>\n",
       "      <td>40.0</td>\n",
       "      <td>5.0</td>\n",
       "      <td>4.8903</td>\n",
       "      <td>89</td>\n",
       "      <td>206</td>\n",
       "    </tr>\n",
       "    <tr>\n",
       "      <th>4</th>\n",
       "      <td>50</td>\n",
       "      <td>1</td>\n",
       "      <td>23.0</td>\n",
       "      <td>101.0</td>\n",
       "      <td>192</td>\n",
       "      <td>125.4</td>\n",
       "      <td>52.0</td>\n",
       "      <td>4.0</td>\n",
       "      <td>4.2905</td>\n",
       "      <td>80</td>\n",
       "      <td>135</td>\n",
       "    </tr>\n",
       "  </tbody>\n",
       "</table>\n",
       "</div>"
      ],
      "text/plain": [
       "   AGE  SEX   BMI     BP   S1     S2    S3   S4      S5  S6    Y\n",
       "0   59    2  32.1  101.0  157   93.2  38.0  4.0  4.8598  87  151\n",
       "1   48    1  21.6   87.0  183  103.2  70.0  3.0  3.8918  69   75\n",
       "2   72    2  30.5   93.0  156   93.6  41.0  4.0  4.6728  85  141\n",
       "3   24    1  25.3   84.0  198  131.4  40.0  5.0  4.8903  89  206\n",
       "4   50    1  23.0  101.0  192  125.4  52.0  4.0  4.2905  80  135"
      ]
     },
     "execution_count": 2,
     "metadata": {},
     "output_type": "execute_result"
    }
   ],
   "source": [
    "df.head()"
   ]
  },
  {
   "cell_type": "code",
   "execution_count": 3,
   "metadata": {},
   "outputs": [
    {
     "data": {
      "text/html": [
       "<div>\n",
       "<style scoped>\n",
       "    .dataframe tbody tr th:only-of-type {\n",
       "        vertical-align: middle;\n",
       "    }\n",
       "\n",
       "    .dataframe tbody tr th {\n",
       "        vertical-align: top;\n",
       "    }\n",
       "\n",
       "    .dataframe thead th {\n",
       "        text-align: right;\n",
       "    }\n",
       "</style>\n",
       "<table border=\"1\" class=\"dataframe\">\n",
       "  <thead>\n",
       "    <tr style=\"text-align: right;\">\n",
       "      <th></th>\n",
       "      <th>AGE</th>\n",
       "      <th>SEX</th>\n",
       "      <th>BMI</th>\n",
       "      <th>BP</th>\n",
       "      <th>S1</th>\n",
       "      <th>S2</th>\n",
       "      <th>S3</th>\n",
       "      <th>S4</th>\n",
       "      <th>S5</th>\n",
       "      <th>S6</th>\n",
       "      <th>Y</th>\n",
       "    </tr>\n",
       "  </thead>\n",
       "  <tbody>\n",
       "    <tr>\n",
       "      <th>count</th>\n",
       "      <td>442.000000</td>\n",
       "      <td>442.000000</td>\n",
       "      <td>442.000000</td>\n",
       "      <td>442.000000</td>\n",
       "      <td>442.000000</td>\n",
       "      <td>442.000000</td>\n",
       "      <td>442.000000</td>\n",
       "      <td>442.000000</td>\n",
       "      <td>442.000000</td>\n",
       "      <td>442.000000</td>\n",
       "      <td>442.000000</td>\n",
       "    </tr>\n",
       "    <tr>\n",
       "      <th>mean</th>\n",
       "      <td>48.518100</td>\n",
       "      <td>1.468326</td>\n",
       "      <td>26.375792</td>\n",
       "      <td>94.647014</td>\n",
       "      <td>189.140271</td>\n",
       "      <td>115.439140</td>\n",
       "      <td>49.788462</td>\n",
       "      <td>4.070249</td>\n",
       "      <td>4.641411</td>\n",
       "      <td>91.260181</td>\n",
       "      <td>152.133484</td>\n",
       "    </tr>\n",
       "    <tr>\n",
       "      <th>std</th>\n",
       "      <td>13.109028</td>\n",
       "      <td>0.499561</td>\n",
       "      <td>4.418122</td>\n",
       "      <td>13.831283</td>\n",
       "      <td>34.608052</td>\n",
       "      <td>30.413081</td>\n",
       "      <td>12.934202</td>\n",
       "      <td>1.290450</td>\n",
       "      <td>0.522391</td>\n",
       "      <td>11.496335</td>\n",
       "      <td>77.093005</td>\n",
       "    </tr>\n",
       "    <tr>\n",
       "      <th>min</th>\n",
       "      <td>19.000000</td>\n",
       "      <td>1.000000</td>\n",
       "      <td>18.000000</td>\n",
       "      <td>62.000000</td>\n",
       "      <td>97.000000</td>\n",
       "      <td>41.600000</td>\n",
       "      <td>22.000000</td>\n",
       "      <td>2.000000</td>\n",
       "      <td>3.258100</td>\n",
       "      <td>58.000000</td>\n",
       "      <td>25.000000</td>\n",
       "    </tr>\n",
       "    <tr>\n",
       "      <th>25%</th>\n",
       "      <td>38.250000</td>\n",
       "      <td>1.000000</td>\n",
       "      <td>23.200000</td>\n",
       "      <td>84.000000</td>\n",
       "      <td>164.250000</td>\n",
       "      <td>96.050000</td>\n",
       "      <td>40.250000</td>\n",
       "      <td>3.000000</td>\n",
       "      <td>4.276700</td>\n",
       "      <td>83.250000</td>\n",
       "      <td>87.000000</td>\n",
       "    </tr>\n",
       "    <tr>\n",
       "      <th>50%</th>\n",
       "      <td>50.000000</td>\n",
       "      <td>1.000000</td>\n",
       "      <td>25.700000</td>\n",
       "      <td>93.000000</td>\n",
       "      <td>186.000000</td>\n",
       "      <td>113.000000</td>\n",
       "      <td>48.000000</td>\n",
       "      <td>4.000000</td>\n",
       "      <td>4.620050</td>\n",
       "      <td>91.000000</td>\n",
       "      <td>140.500000</td>\n",
       "    </tr>\n",
       "    <tr>\n",
       "      <th>75%</th>\n",
       "      <td>59.000000</td>\n",
       "      <td>2.000000</td>\n",
       "      <td>29.275000</td>\n",
       "      <td>105.000000</td>\n",
       "      <td>209.750000</td>\n",
       "      <td>134.500000</td>\n",
       "      <td>57.750000</td>\n",
       "      <td>5.000000</td>\n",
       "      <td>4.997200</td>\n",
       "      <td>98.000000</td>\n",
       "      <td>211.500000</td>\n",
       "    </tr>\n",
       "    <tr>\n",
       "      <th>max</th>\n",
       "      <td>79.000000</td>\n",
       "      <td>2.000000</td>\n",
       "      <td>42.200000</td>\n",
       "      <td>133.000000</td>\n",
       "      <td>301.000000</td>\n",
       "      <td>242.400000</td>\n",
       "      <td>99.000000</td>\n",
       "      <td>9.090000</td>\n",
       "      <td>6.107000</td>\n",
       "      <td>124.000000</td>\n",
       "      <td>346.000000</td>\n",
       "    </tr>\n",
       "  </tbody>\n",
       "</table>\n",
       "</div>"
      ],
      "text/plain": [
       "              AGE         SEX         BMI          BP          S1          S2  \\\n",
       "count  442.000000  442.000000  442.000000  442.000000  442.000000  442.000000   \n",
       "mean    48.518100    1.468326   26.375792   94.647014  189.140271  115.439140   \n",
       "std     13.109028    0.499561    4.418122   13.831283   34.608052   30.413081   \n",
       "min     19.000000    1.000000   18.000000   62.000000   97.000000   41.600000   \n",
       "25%     38.250000    1.000000   23.200000   84.000000  164.250000   96.050000   \n",
       "50%     50.000000    1.000000   25.700000   93.000000  186.000000  113.000000   \n",
       "75%     59.000000    2.000000   29.275000  105.000000  209.750000  134.500000   \n",
       "max     79.000000    2.000000   42.200000  133.000000  301.000000  242.400000   \n",
       "\n",
       "               S3          S4          S5          S6           Y  \n",
       "count  442.000000  442.000000  442.000000  442.000000  442.000000  \n",
       "mean    49.788462    4.070249    4.641411   91.260181  152.133484  \n",
       "std     12.934202    1.290450    0.522391   11.496335   77.093005  \n",
       "min     22.000000    2.000000    3.258100   58.000000   25.000000  \n",
       "25%     40.250000    3.000000    4.276700   83.250000   87.000000  \n",
       "50%     48.000000    4.000000    4.620050   91.000000  140.500000  \n",
       "75%     57.750000    5.000000    4.997200   98.000000  211.500000  \n",
       "max     99.000000    9.090000    6.107000  124.000000  346.000000  "
      ]
     },
     "execution_count": 3,
     "metadata": {},
     "output_type": "execute_result"
    }
   ],
   "source": [
    "df.describe()"
   ]
  },
  {
   "cell_type": "markdown",
   "metadata": {},
   "source": [
    "Here the field `SEX` only has two values. "
   ]
  },
  {
   "cell_type": "code",
   "execution_count": 4,
   "metadata": {},
   "outputs": [
    {
     "data": {
      "text/plain": [
       "array([2, 1], dtype=int64)"
      ]
     },
     "execution_count": 4,
     "metadata": {},
     "output_type": "execute_result"
    }
   ],
   "source": [
    "df['SEX'].unique()"
   ]
  },
  {
   "cell_type": "markdown",
   "metadata": {},
   "source": [
    "Categorical data such as this can be converted to binary columuns using the `sklearn` method `OneHotEncoder` or the `Pandas` method `getdummies`. However, since `SEX` is already binary, there is no need to do this. If we had a field which had three categories, for example, the data came from three different states, then we could create a binary field for each state, with the value 1 if the person is resident in the state and 0 otherwise. For more details see `sklearn.feature_extraction.DictVectorizer` and `sklearn.preprocessing.OneHotEncoder`.\n",
    "\n",
    "We can look at the variable correlations to search for patterns. `SEX` doesn't seem to be important in predicting `Y`, and `AGE`, `S1` and `S2` are only marginally important. The most important variables seem to be `BMI`, `BP`, `S4` and `S5`. There is a strong correlation between `S1` and `S2`, and `S3` and `S4`."
   ]
  },
  {
   "cell_type": "code",
   "execution_count": 5,
   "metadata": {},
   "outputs": [
    {
     "data": {
      "image/png": "[encoded data removed]",
      "text/plain": [
       "<Figure size 720x576 with 2 Axes>"
      ]
     },
     "metadata": {
      "needs_background": "light"
     },
     "output_type": "display_data"
    }
   ],
   "source": [
    "corrs = df.corr() # calculate the correlation table\n",
    "# as this is a symmetric table, set up a mask so that we only plot values below the main diagonal\n",
    "mask = np.triu(np.ones_like(corrs, dtype=bool)) \n",
    "f, ax = plt.subplots(figsize=(10, 8)) # initialise the plots and axes\n",
    "# plot the correlations as a seaborn heatmap, with a colourbar\n",
    "sns.heatmap(corrs, mask=mask, center=0, annot=True, square=True, linewidths=.5) \n",
    "# do some fiddling so that the top and bottom are not obscured\n",
    "bottom, top = ax.get_ylim() \n",
    "ax.set_ylim(bottom + 0.5, top - 0.5);"
   ]
  },
  {
   "cell_type": "markdown",
   "metadata": {},
   "source": [
    "### Multivariate Linear Regression\n",
    "\n",
    "To carry out regression modelling we now create a matrix of independent variables (features) given by `X`, and vector of the dependent or target variable `Y`. Specifically, we are building models of the form:\n",
    "\n",
    "$$\n",
    "Y_{pred} = \\text{intercept} + c_{\\text{age}} \\times \\text{AGE} + ... + c_{\\text{S6}} \\times \\text{S6}\n",
    "$$\n",
    "\n",
    "and fitting the model parameters in order to minimise the cost function:\n",
    "\n",
    "$$\n",
    "( Y - Y_{pred} )^\\top ( Y - Y_{pred} )\n",
    "$$\n",
    "\n",
    "Here $Y$ refers to a vector of observed target values."
   ]
  },
  {
   "cell_type": "code",
   "execution_count": 6,
   "metadata": {},
   "outputs": [],
   "source": [
    "X = df.drop(['Y'],axis=1)  # Create a Dataframe without the target variable Y.\n",
    "Y = df['Y']                # Extract a Series of the target Y values."
   ]
  },
  {
   "cell_type": "markdown",
   "metadata": {},
   "source": [
    "Now we split the data into training and testing sets, and model the data using the  `sklearn` Linear Regression model. All supervised modelling methods (those with input features and output targets) follow the same key steps process in `sklearn`:\n",
    "\n",
    "1. Split data into training and testing subsets\n",
    "2. Instantiate a model type (with parameters)\n",
    "3. Fit model parameters to the training data\n",
    "4. Evaluate model performance on the testing data\n",
    "\n",
    "Take note of steps 3. and 4., we fit the model to the training data, however we test its performance on the testing data! Testing on the training data is not particularly informative as the model has been trained on this data in the first place. Instead, we want to assess the performance of the model on unseen data."
   ]
  },
  {
   "cell_type": "code",
   "execution_count": 7,
   "metadata": {},
   "outputs": [
    {
     "data": {
      "text/html": [
       "<div>\n",
       "<style scoped>\n",
       "    .dataframe tbody tr th:only-of-type {\n",
       "        vertical-align: middle;\n",
       "    }\n",
       "\n",
       "    .dataframe tbody tr th {\n",
       "        vertical-align: top;\n",
       "    }\n",
       "\n",
       "    .dataframe thead th {\n",
       "        text-align: right;\n",
       "    }\n",
       "</style>\n",
       "<table border=\"1\" class=\"dataframe\">\n",
       "  <thead>\n",
       "    <tr style=\"text-align: right;\">\n",
       "      <th></th>\n",
       "      <th>R^2</th>\n",
       "      <th>RMSE</th>\n",
       "      <th>MAE</th>\n",
       "    </tr>\n",
       "  </thead>\n",
       "  <tbody>\n",
       "    <tr>\n",
       "      <th>train</th>\n",
       "      <td>0.530166</td>\n",
       "      <td>52.401516</td>\n",
       "      <td>42.455019</td>\n",
       "    </tr>\n",
       "    <tr>\n",
       "      <th>test</th>\n",
       "      <td>0.448469</td>\n",
       "      <td>58.108433</td>\n",
       "      <td>46.979149</td>\n",
       "    </tr>\n",
       "  </tbody>\n",
       "</table>\n",
       "</div>"
      ],
      "text/plain": [
       "            R^2       RMSE        MAE\n",
       "train  0.530166  52.401516  42.455019\n",
       "test   0.448469  58.108433  46.979149"
      ]
     },
     "execution_count": 7,
     "metadata": {},
     "output_type": "execute_result"
    }
   ],
   "source": [
    "# Split into a training set with 80% of the data, and a testing set as the remainder.\n",
    "X_train, X_test, Y_train, Y_test = train_test_split(\n",
    "    X, Y, test_size=0.2,\n",
    "    random_state=np.random.RandomState(31287)  # Keeps the 'random' split consistent.\n",
    ") \n",
    "\n",
    "# Construct and fit the model\n",
    "linear = LinearRegression()  # Instantatiate the linear regression model\n",
    "linear.fit(X_train,Y_train)  # Fit the model parameters to the training data.\n",
    "\n",
    "# Evaluate model performance.\n",
    "training_predictions = linear.predict(X_train)  # Get model predictions for both.\n",
    "testing_predictions = linear.predict(X_test)    # training and testing data.\n",
    "\n",
    "# Create a table of the various scores.\n",
    "pd.DataFrame({\n",
    "    \"R^2\": {\n",
    "        \"train\": r2_score(Y_train, training_predictions),\n",
    "        \"test\": r2_score(Y_test, testing_predictions)\n",
    "    },\n",
    "    \"RMSE\": {\n",
    "        \"train\": mean_squared_error(Y_train, training_predictions, squared=False),\n",
    "        \"test\": mean_squared_error(Y_test, testing_predictions, squared=False),\n",
    "    },\n",
    "    \"MAE\": {\n",
    "        \"train\": mean_absolute_error(Y_train, training_predictions),\n",
    "        \"test\": mean_absolute_error(Y_test, testing_predictions),\n",
    "    },\n",
    "})"
   ]
  },
  {
   "cell_type": "markdown",
   "metadata": {},
   "source": [
    "We have three error scores here:\n",
    "\n",
    "* $R^2$ is a 'goodness-of-fit' measure between 0 and 1,\n",
    "* RMSE, the measure which linear regression aims to minimise, and\n",
    "* MAE, similarly an error metric we want to minimise\n",
    "\n",
    "Based on the $R^2$ scores we can see that the overall fit is not very good. Prediction error is quite high, being equivalent to about half a standard deviation in the target `Y` variable.\n",
    "\n",
    "We can also see that the error measures vary quite significantly between the training and testing sets. Some variation is expected (we will always see lower $R^2$ and higher error on testing compared to training sets), but significant variation may indicate that the model is **overfitted** to the training data, and does not **generalise** well to the testing data."
   ]
  },
  {
   "cell_type": "markdown",
   "metadata": {},
   "source": [
    "### Analysis of Coefficients\n",
    "\n",
    "We can investigate the model coefficients to get an idea of the importance of each independent variable in predicting `Y`. However, we cannot directly compare coefficients as their dimensions are different. For example, the `AGE` coefficient will be inversely proportional to years, while the `BP` coefficient will be inversely proportional to mm of Hg. Hence to compare the coefficients we need to make them dimensionless and we also need to know the variability of each of the independent variables."
   ]
  },
  {
   "cell_type": "code",
   "execution_count": 8,
   "metadata": {},
   "outputs": [
    {
     "data": {
      "text/plain": [
       "AGE    -0.097335\n",
       "SEX   -21.440288\n",
       "BMI     5.610960\n",
       "BP      1.064001\n",
       "S1     -1.404878\n",
       "S2      1.009480\n",
       "S3      0.545546\n",
       "S4      4.973988\n",
       "S5     80.914202\n",
       "S6      0.152322\n",
       "dtype: float64"
      ]
     },
     "execution_count": 8,
     "metadata": {},
     "output_type": "execute_result"
    }
   ],
   "source": [
    "feature_names = X.columns.tolist() # write the column names to a list\n",
    "\n",
    "# create a Series for which the rows are the feature names and the data is \n",
    "# the regression coefficient values\n",
    "coefficients = pd.Series(data=linear.coef_.transpose(), index=feature_names)\n",
    "coefficients"
   ]
  },
  {
   "cell_type": "code",
   "execution_count": 9,
   "metadata": {},
   "outputs": [
    {
     "data": {
      "image/png": "[encoded data removed]",
      "text/plain": [
       "<Figure size 720x504 with 1 Axes>"
      ]
     },
     "metadata": {
      "needs_background": "light"
     },
     "output_type": "display_data"
    }
   ],
   "source": [
    "coefficients.plot(kind='bar', figsize=(10, 7)) # plot these as a bar plot\n",
    "plt.title('Linear Regression: Coefficient values') # add a title\n",
    "plt.axhline(y=0, color='.5') # add the reference line y = 0\n",
    "plt.subplots_adjust(left=.3) # move to the left a little bit"
   ]
  },
  {
   "cell_type": "markdown",
   "metadata": {},
   "source": [
    "The variability of the features can be obtained from the standard deviation, which also has the same dimensions as the original variables. We can see a roughly inverse relationship between the coefficients and the standard deviation, i.e., as one goes up the other goes down."
   ]
  },
  {
   "cell_type": "code",
   "execution_count": 10,
   "metadata": {},
   "outputs": [
    {
     "data": {
      "text/plain": [
       "AGE    13.083535\n",
       "SEX     0.499823\n",
       "BMI     4.432218\n",
       "BP     13.894686\n",
       "S1     35.003150\n",
       "S2     30.579102\n",
       "S3     13.044317\n",
       "S4      1.323055\n",
       "S5      0.533186\n",
       "S6     11.520394\n",
       "dtype: float64"
      ]
     },
     "execution_count": 10,
     "metadata": {},
     "output_type": "execute_result"
    }
   ],
   "source": [
    "X_train.std(axis = 0)"
   ]
  },
  {
   "cell_type": "code",
   "execution_count": 11,
   "metadata": {},
   "outputs": [
    {
     "data": {
      "image/png": "[encoded data removed]",
      "text/plain": [
       "<Figure size 720x504 with 1 Axes>"
      ]
     },
     "metadata": {
      "needs_background": "light"
     },
     "output_type": "display_data"
    }
   ],
   "source": [
    "X_train.std(axis=0).plot(kind='bar', figsize=(10, 7)) # plot the standard deviation of the training set features\n",
    "plt.title('Features std. dev.') # add a title\n",
    "plt.subplots_adjust(left=.3) # move a bit to the left"
   ]
  },
  {
   "cell_type": "markdown",
   "metadata": {},
   "source": [
    "The preceding plot suggests that `S1` and `S2` have significant effects on `Y`, which contradicts the conclusions drawn from the corrrelation table earlier. What we haven't yet taken into account is the variability of the coefficients. Thus, the importance of each coefficient can be found by multiplying the coefficient by the standard deviation for each feature. "
   ]
  },
  {
   "cell_type": "code",
   "execution_count": 12,
   "metadata": {},
   "outputs": [
    {
     "data": {
      "image/png": "[encoded data removed]",
      "text/plain": [
       "<Figure size 720x504 with 1 Axes>"
      ]
     },
     "metadata": {
      "needs_background": "light"
     },
     "output_type": "display_data"
    }
   ],
   "source": [
    "# create a dataframe with the columns being the feature names and regression coefficients multiplied by the \n",
    "# standard deviation\n",
    "coefs = pd.DataFrame(\n",
    "    linear.coef_ * X_train.std(axis=0),\n",
    "    columns=['Coefficient importance'], index=feature_names\n",
    ")\n",
    "# do a similar plot of this variable, as above\n",
    "coefs.plot(kind='bar', figsize=(10, 7))\n",
    "plt.title('Linear Regression')\n",
    "plt.axhline(y=0, color='.5')\n",
    "plt.subplots_adjust(left=.3)"
   ]
  },
  {
   "cell_type": "markdown",
   "metadata": {},
   "source": [
    "### Normalising features\n",
    "\n",
    "To compare the importance of the coefficients it is easiest to normalise the independent variables from the start. The dependent variable (i.e. target) does not need to be normalised. We normalise all the variables such that their mean is zero and their standard deviation is one, which can be done by subtracting the mean and then dividing by the standard deviation. This is equivalent to multiplying the coefficients by the standard deviation."
   ]
  },
  {
   "cell_type": "code",
   "execution_count": 13,
   "metadata": {},
   "outputs": [
    {
     "data": {
      "text/html": [
       "<div>\n",
       "<style scoped>\n",
       "    .dataframe tbody tr th:only-of-type {\n",
       "        vertical-align: middle;\n",
       "    }\n",
       "\n",
       "    .dataframe tbody tr th {\n",
       "        vertical-align: top;\n",
       "    }\n",
       "\n",
       "    .dataframe thead th {\n",
       "        text-align: right;\n",
       "    }\n",
       "</style>\n",
       "<table border=\"1\" class=\"dataframe\">\n",
       "  <thead>\n",
       "    <tr style=\"text-align: right;\">\n",
       "      <th></th>\n",
       "      <th>AGE</th>\n",
       "      <th>SEX</th>\n",
       "      <th>BMI</th>\n",
       "      <th>BP</th>\n",
       "      <th>S1</th>\n",
       "      <th>S2</th>\n",
       "      <th>S3</th>\n",
       "      <th>S4</th>\n",
       "      <th>S5</th>\n",
       "      <th>S6</th>\n",
       "    </tr>\n",
       "  </thead>\n",
       "  <tbody>\n",
       "    <tr>\n",
       "      <th>count</th>\n",
       "      <td>4.420000e+02</td>\n",
       "      <td>4.420000e+02</td>\n",
       "      <td>4.420000e+02</td>\n",
       "      <td>4.420000e+02</td>\n",
       "      <td>4.420000e+02</td>\n",
       "      <td>4.420000e+02</td>\n",
       "      <td>4.420000e+02</td>\n",
       "      <td>4.420000e+02</td>\n",
       "      <td>4.420000e+02</td>\n",
       "      <td>4.420000e+02</td>\n",
       "    </tr>\n",
       "    <tr>\n",
       "      <th>mean</th>\n",
       "      <td>-3.717489e-17</td>\n",
       "      <td>1.321216e-16</td>\n",
       "      <td>-4.609686e-15</td>\n",
       "      <td>-9.625282e-16</td>\n",
       "      <td>-3.174936e-16</td>\n",
       "      <td>8.386956e-16</td>\n",
       "      <td>-1.446806e-16</td>\n",
       "      <td>-1.708035e-16</td>\n",
       "      <td>1.904051e-15</td>\n",
       "      <td>2.364248e-16</td>\n",
       "    </tr>\n",
       "    <tr>\n",
       "      <th>std</th>\n",
       "      <td>1.000000e+00</td>\n",
       "      <td>1.000000e+00</td>\n",
       "      <td>1.000000e+00</td>\n",
       "      <td>1.000000e+00</td>\n",
       "      <td>1.000000e+00</td>\n",
       "      <td>1.000000e+00</td>\n",
       "      <td>1.000000e+00</td>\n",
       "      <td>1.000000e+00</td>\n",
       "      <td>1.000000e+00</td>\n",
       "      <td>1.000000e+00</td>\n",
       "    </tr>\n",
       "    <tr>\n",
       "      <th>min</th>\n",
       "      <td>-2.251738e+00</td>\n",
       "      <td>-9.374744e-01</td>\n",
       "      <td>-1.895781e+00</td>\n",
       "      <td>-2.360375e+00</td>\n",
       "      <td>-2.662394e+00</td>\n",
       "      <td>-2.427874e+00</td>\n",
       "      <td>-2.148448e+00</td>\n",
       "      <td>-1.604285e+00</td>\n",
       "      <td>-2.648040e+00</td>\n",
       "      <td>-2.893112e+00</td>\n",
       "    </tr>\n",
       "    <tr>\n",
       "      <th>25%</th>\n",
       "      <td>-7.832846e-01</td>\n",
       "      <td>-9.374744e-01</td>\n",
       "      <td>-7.188104e-01</td>\n",
       "      <td>-7.697777e-01</td>\n",
       "      <td>-7.192046e-01</td>\n",
       "      <td>-6.375263e-01</td>\n",
       "      <td>-7.374604e-01</td>\n",
       "      <td>-8.293610e-01</td>\n",
       "      <td>-6.981574e-01</td>\n",
       "      <td>-6.967595e-01</td>\n",
       "    </tr>\n",
       "    <tr>\n",
       "      <th>50%</th>\n",
       "      <td>1.130443e-01</td>\n",
       "      <td>-9.374744e-01</td>\n",
       "      <td>-1.529591e-01</td>\n",
       "      <td>-1.190789e-01</td>\n",
       "      <td>-9.073818e-02</td>\n",
       "      <td>-8.020037e-02</td>\n",
       "      <td>-1.382738e-01</td>\n",
       "      <td>-5.443750e-02</td>\n",
       "      <td>-4.089059e-02</td>\n",
       "      <td>-2.263165e-02</td>\n",
       "    </tr>\n",
       "    <tr>\n",
       "      <th>75%</th>\n",
       "      <td>7.995940e-01</td>\n",
       "      <td>1.064282e+00</td>\n",
       "      <td>6.562083e-01</td>\n",
       "      <td>7.485196e-01</td>\n",
       "      <td>5.955183e-01</td>\n",
       "      <td>6.267323e-01</td>\n",
       "      <td>6.155415e-01</td>\n",
       "      <td>7.204860e-01</td>\n",
       "      <td>6.810788e-01</td>\n",
       "      <td>5.862581e-01</td>\n",
       "    </tr>\n",
       "    <tr>\n",
       "      <th>max</th>\n",
       "      <td>2.325260e+00</td>\n",
       "      <td>1.064282e+00</td>\n",
       "      <td>3.581660e+00</td>\n",
       "      <td>2.772916e+00</td>\n",
       "      <td>3.232188e+00</td>\n",
       "      <td>4.174548e+00</td>\n",
       "      <td>3.804760e+00</td>\n",
       "      <td>3.889923e+00</td>\n",
       "      <td>2.805543e+00</td>\n",
       "      <td>2.847848e+00</td>\n",
       "    </tr>\n",
       "  </tbody>\n",
       "</table>\n",
       "</div>"
      ],
      "text/plain": [
       "                AGE           SEX           BMI            BP            S1  \\\n",
       "count  4.420000e+02  4.420000e+02  4.420000e+02  4.420000e+02  4.420000e+02   \n",
       "mean  -3.717489e-17  1.321216e-16 -4.609686e-15 -9.625282e-16 -3.174936e-16   \n",
       "std    1.000000e+00  1.000000e+00  1.000000e+00  1.000000e+00  1.000000e+00   \n",
       "min   -2.251738e+00 -9.374744e-01 -1.895781e+00 -2.360375e+00 -2.662394e+00   \n",
       "25%   -7.832846e-01 -9.374744e-01 -7.188104e-01 -7.697777e-01 -7.192046e-01   \n",
       "50%    1.130443e-01 -9.374744e-01 -1.529591e-01 -1.190789e-01 -9.073818e-02   \n",
       "75%    7.995940e-01  1.064282e+00  6.562083e-01  7.485196e-01  5.955183e-01   \n",
       "max    2.325260e+00  1.064282e+00  3.581660e+00  2.772916e+00  3.232188e+00   \n",
       "\n",
       "                 S2            S3            S4            S5            S6  \n",
       "count  4.420000e+02  4.420000e+02  4.420000e+02  4.420000e+02  4.420000e+02  \n",
       "mean   8.386956e-16 -1.446806e-16 -1.708035e-16  1.904051e-15  2.364248e-16  \n",
       "std    1.000000e+00  1.000000e+00  1.000000e+00  1.000000e+00  1.000000e+00  \n",
       "min   -2.427874e+00 -2.148448e+00 -1.604285e+00 -2.648040e+00 -2.893112e+00  \n",
       "25%   -6.375263e-01 -7.374604e-01 -8.293610e-01 -6.981574e-01 -6.967595e-01  \n",
       "50%   -8.020037e-02 -1.382738e-01 -5.443750e-02 -4.089059e-02 -2.263165e-02  \n",
       "75%    6.267323e-01  6.155415e-01  7.204860e-01  6.810788e-01  5.862581e-01  \n",
       "max    4.174548e+00  3.804760e+00  3.889923e+00  2.805543e+00  2.847848e+00  "
      ]
     },
     "execution_count": 13,
     "metadata": {},
     "output_type": "execute_result"
    }
   ],
   "source": [
    "nX =(X-X.mean())/X.std() # create nX, a normalised version of X\n",
    "nX.describe() # show the descriptive statistics of nX"
   ]
  },
  {
   "cell_type": "markdown",
   "metadata": {},
   "source": [
    "We repeat the linear regression, but now using the normalized variables. While the model parameters will change, there is no change in any of our error measures. This is because the model itself has not really changed: scaling the input features is offset by scaling in the model parameters."
   ]
  },
  {
   "cell_type": "code",
   "execution_count": 14,
   "metadata": {},
   "outputs": [
    {
     "data": {
      "text/html": [
       "<div>\n",
       "<style scoped>\n",
       "    .dataframe tbody tr th:only-of-type {\n",
       "        vertical-align: middle;\n",
       "    }\n",
       "\n",
       "    .dataframe tbody tr th {\n",
       "        vertical-align: top;\n",
       "    }\n",
       "\n",
       "    .dataframe thead th {\n",
       "        text-align: right;\n",
       "    }\n",
       "</style>\n",
       "<table border=\"1\" class=\"dataframe\">\n",
       "  <thead>\n",
       "    <tr style=\"text-align: right;\">\n",
       "      <th></th>\n",
       "      <th>R^2</th>\n",
       "      <th>RMSE</th>\n",
       "      <th>MAE</th>\n",
       "    </tr>\n",
       "  </thead>\n",
       "  <tbody>\n",
       "    <tr>\n",
       "      <th>train</th>\n",
       "      <td>0.530166</td>\n",
       "      <td>52.401516</td>\n",
       "      <td>42.455019</td>\n",
       "    </tr>\n",
       "    <tr>\n",
       "      <th>test</th>\n",
       "      <td>0.448469</td>\n",
       "      <td>58.108433</td>\n",
       "      <td>46.979149</td>\n",
       "    </tr>\n",
       "  </tbody>\n",
       "</table>\n",
       "</div>"
      ],
      "text/plain": [
       "            R^2       RMSE        MAE\n",
       "train  0.530166  52.401516  42.455019\n",
       "test   0.448469  58.108433  46.979149"
      ]
     },
     "execution_count": 14,
     "metadata": {},
     "output_type": "execute_result"
    }
   ],
   "source": [
    "# The below code is identical to our first attempt, the only change is\n",
    "# substituting nX for X in train_test_split, to use our normalised data.\n",
    "\n",
    "# Split into a training set with 80% of the data, and a testing set as the remainder.\n",
    "X_train, X_test, Y_train, Y_test = train_test_split(\n",
    "    nX, Y, test_size=0.2,\n",
    "    random_state=np.random.RandomState(31287)  # Keeps the 'random' split consistent.\n",
    ") \n",
    "\n",
    "# Construct and fit the model\n",
    "linear = LinearRegression()  # Instantatiate the linear regression model\n",
    "linear.fit(X_train,Y_train)  # Fit the model parameters to the training data.\n",
    "\n",
    "# Evaluate model performance.\n",
    "training_predictions = linear.predict(X_train)  # Get model predictions for both.\n",
    "testing_predictions = linear.predict(X_test)    # training and testing data.\n",
    "\n",
    "# Create a table of the various scores.\n",
    "pd.DataFrame({\n",
    "    \"R^2\": {\n",
    "        \"train\": r2_score(Y_train, training_predictions),\n",
    "        \"test\": r2_score(Y_test, testing_predictions)\n",
    "    },\n",
    "    \"RMSE\": {\n",
    "        \"train\": mean_squared_error(Y_train, training_predictions, squared=False),\n",
    "        \"test\": mean_squared_error(Y_test, testing_predictions, squared=False),\n",
    "    },\n",
    "    \"MAE\": {\n",
    "        \"train\": mean_absolute_error(Y_train, training_predictions),\n",
    "        \"test\": mean_absolute_error(Y_test, testing_predictions),\n",
    "    },\n",
    "})"
   ]
  },
  {
   "cell_type": "markdown",
   "metadata": {},
   "source": [
    "Again we can plot the linear regression coefficients, but this time we compare them against our original linear regression coefficients to investigate the variability. It can now be seen that the effect of the blood serum measurements (S1 - S6) can have considerable variability.\n",
    "\n",
    "What we can see here is that the importance of feature S5 was over-inflated when we looked at the coefficients without normalisation, due to its very low variance."
   ]
  },
  {
   "cell_type": "code",
   "execution_count": 15,
   "metadata": {},
   "outputs": [
    {
     "data": {
      "image/png": "[encoded data removed]",
      "text/plain": [
       "<Figure size 720x504 with 1 Axes>"
      ]
     },
     "metadata": {
      "needs_background": "light"
     },
     "output_type": "display_data"
    }
   ],
   "source": [
    "# create a new dataframe with the regression coefficients from the normalised data\n",
    "normed_coefficients = pd.Series(data=linear.coef_.transpose(), index=feature_names)\n",
    "\n",
    "# add our original coefficient importance to this dataframe\n",
    "all_coefficients = pd.DataFrame({\n",
    "    'Normalised': normed_coefficients,\n",
    "    'Original': coefficients,\n",
    "})\n",
    "\n",
    "# do a similar horizontal plot as before\n",
    "ax = all_coefficients.plot(kind='bar',figsize=(10,7))\n",
    "# ax = all_coefficients.plot.bar(figsize = (10, 7))\n",
    "plt.title('Linear Regression')\n",
    "plt.axhline(y=0, color='.5')\n",
    "plt.subplots_adjust(left=.3)"
   ]
  },
  {
   "cell_type": "markdown",
   "metadata": {},
   "source": [
    "To investigate the variability we can use the `sklearn` methods `cross_validate` and `RepeatedKFold`. The first of these performs a number of runs of a model. The second splits the data in n sections and repeats the calculations m times. This gives n.m runs to investigate the variability of the coefficients. The variability of these can then be plotted using a boxplot."
   ]
  },
  {
   "cell_type": "code",
   "execution_count": 16,
   "metadata": {},
   "outputs": [
    {
     "data": {
      "image/png": "[encoded data removed]",
      "text/plain": [
       "<Figure size 720x504 with 1 Axes>"
      ]
     },
     "metadata": {
      "needs_background": "light"
     },
     "output_type": "display_data"
    }
   ],
   "source": [
    "from sklearn.model_selection import cross_validate, RepeatedKFold # import sklearn methods\n",
    "\n",
    "# cross_validate takes the particular model, in this case linear regression which we instantatiated earlier,\n",
    "# and undertakes a number of runs according the method specified by cv=\n",
    "# RepeatedKFold splits the data into n sections and repeat the regression modelling 5 times, giving 25 runs\n",
    "# return_estimator=True returns the fitting data for each run\n",
    "scores = cross_validate(\n",
    "    linear, nX, Y,\n",
    "    cv=RepeatedKFold(n_splits=5, n_repeats=5, random_state=np.random.RandomState(2351786)),\n",
    "    return_estimator=True,\n",
    ")\n",
    "# take the results for each simulation (estimator), extract the coefficients for each run \n",
    "# and add them to a dataframe with columns being the feature names\n",
    "coefs = pd.DataFrame([est.coef_ for est in scores['estimator']],columns=nX.columns)\n",
    "# plot the descriptive statics of the coefficients in a box and whisker plot to show variability\n",
    "ax = coefs.plot(kind='box',figsize=(10,7))\n",
    "plt.title('Linear Regression')\n",
    "plt.axhline(y=0, color='.5')\n",
    "plt.subplots_adjust(left=.3)"
   ]
  },
  {
   "cell_type": "markdown",
   "metadata": {},
   "source": [
    "We can see `AGE`, `SEX`, `BP`, `BMI` and `S6` have very low variance, whereas `S1`-`S5` have high variance. In particular we can see that `AGE` and `S3` do not have a clear effect in the model: in some model fits, they produce a negative coefficient, while in others they produce a positive coefficient. It is therefore not clear whether there is any statistical significance of these parameters in the model."
   ]
  },
  {
   "cell_type": "markdown",
   "metadata": {},
   "source": [
    "## Exercises\n",
    "\n",
    "### Exercise 1\n",
    "\n",
    "Q: Compare the model coefficients computed in the linear regression with the correlation scores found in the initial data analysis (choose any plot or table which you think is suitable for this comparison). Comment on whether the model fitting results are consistent with the correlation scores.\n",
    "\n",
    "A: Please find the answer below "
   ]
  },
  {
   "cell_type": "markdown",
   "metadata": {},
   "source": [
    "Here are the findings for each feature:\n",
    "\n",
    "AGE\n",
    "Correlation with Y: 0.188\n",
    "Mean Coefficient: -0.499\n",
    "Observations: There is a discrepancy between the positive correlation and the negative mean coefficient for 'AGE,' showing inconsistency.\n",
    "\n",
    "SEX\n",
    "Correlation with Y: 0.043\n",
    "Mean Coefficient: -11.431\n",
    "Observations: The correlation is small and positive, while the mean coefficient is significantly negative, showing inconsistency.\n",
    "\n",
    "BMI\n",
    "Correlation with Y: 0.586\n",
    "Mean Coefficient: 24.757\n",
    "Observations: Both the correlation and mean coefficient indicate a strong positive relationship, showing consistency.\n",
    "\n",
    "BP\n",
    "Correlation with Y: 0.441\n",
    "Mean Coefficient: 15.460\n",
    "Observations: Both the correlation and mean coefficient suggest a positive relationship, showing consistency.\n",
    "S1\n",
    "\n",
    "Correlation with Y: 0.212\n",
    "Mean Coefficient: -37.032\n",
    "Observations: There is a discrepancy between the positive correlation and the significantly negative mean coefficient for 'S1,' showing inconsistency.\n",
    "\n",
    "S2\n",
    "Correlation with Y: 0.174\n",
    "Mean Coefficient: 22.222\n",
    "Observations: Both the correlation and mean coefficient indicate a positive relationship, showing consistency.\n",
    "\n",
    "S3\n",
    "Correlation with Y: -0.395\n",
    "Mean Coefficient: 4.440\n",
    "Observations: Both the correlation and mean coefficient suggest a negative relationship, showing consistency.\n",
    "\n",
    "S4\n",
    "Correlation with Y: 0.430\n",
    "Mean Coefficient: 8.301\n",
    "Observations: Both the correlation and mean coefficient suggest a positive relationship, showing consistency.\n",
    "\n",
    "S5\n",
    "Correlation with Y: 0.566\n",
    "Mean Coefficient: 35.507\n",
    "Observations: Both the correlation and mean coefficient indicate a strong positive relationship, showing consistency.\n",
    "\n",
    "S6\n",
    "Correlation with Y: 0.382\n",
    "Mean Coefficient: 3.241\n",
    "Observations: Both the correlation and mean coefficient suggest a positive relationship, showing consistency.\n",
    "In summary, the linear regression model's results match with the correlation scores for certain features. However, inconsistencies exist for other features, where the model coefficients differ from the correlations."
   ]
  },
  {
   "cell_type": "code",
   "execution_count": 22,
   "metadata": {},
   "outputs": [
    {
     "data": {
      "image/png": "[encoded data removed]",
      "text/plain": [
       "<Figure size 720x504 with 1 Axes>"
      ]
     },
     "metadata": {
      "needs_background": "light"
     },
     "output_type": "display_data"
    },
    {
     "name": "stdout",
     "output_type": "stream",
     "text": [
      "Feature: AGE\n",
      "Correlation with Y: 0.188\n",
      "Mean Coefficient: -0.499\n",
      "------------------------------\n",
      "Feature: SEX\n",
      "Correlation with Y: 0.043\n",
      "Mean Coefficient: -11.431\n",
      "------------------------------\n",
      "Feature: BMI\n",
      "Correlation with Y: 0.586\n",
      "Mean Coefficient: 24.757\n",
      "------------------------------\n",
      "Feature: BP\n",
      "Correlation with Y: 0.441\n",
      "Mean Coefficient: 15.460\n",
      "------------------------------\n",
      "Feature: S1\n",
      "Correlation with Y: 0.212\n",
      "Mean Coefficient: -37.032\n",
      "------------------------------\n",
      "Feature: S2\n",
      "Correlation with Y: 0.174\n",
      "Mean Coefficient: 22.222\n",
      "------------------------------\n",
      "Feature: S3\n",
      "Correlation with Y: -0.395\n",
      "Mean Coefficient: 4.440\n",
      "------------------------------\n",
      "Feature: S4\n",
      "Correlation with Y: 0.430\n",
      "Mean Coefficient: 8.301\n",
      "------------------------------\n",
      "Feature: S5\n",
      "Correlation with Y: 0.566\n",
      "Mean Coefficient: 35.507\n",
      "------------------------------\n",
      "Feature: S6\n",
      "Correlation with Y: 0.382\n",
      "Mean Coefficient: 3.241\n",
      "------------------------------\n"
     ]
    }
   ],
   "source": [
    "# Hint 1: Create a dataframe which has the correlations with Y as a column, and then the \n",
    "# mean of coefficients computed from the cross_validate method (found in the previous dataframe coefs) for the other column.\n",
    "# You will need to scale the coefficients in order to compare this with the correlations. \n",
    "# Hint 2. Remember you can get correlations by using the method .corr().\n",
    "# Hint 3: A bar plot seems like a good idea!\n",
    "\n",
    "# Calculate the correlations between features and the target variable Y\n",
    "correlations_with_Y = df.corr()['Y'].drop('Y')\n",
    "\n",
    "# Calculate the mean of coefficients from the cross-validation results and scale them\n",
    "mean_coefficients = coefs.mean() \n",
    "\n",
    "# Normalize the mean coefficients for comparison\n",
    "mean_coefficients_normalized = (mean_coefficients - mean_coefficients.mean()) / mean_coefficients.std()\n",
    "\n",
    "# Normalize the correlations for comparison\n",
    "correlations_normalized = (correlations_with_Y - correlations_with_Y.mean()) / correlations_with_Y.std()\n",
    "\n",
    "# Create a dataframe to compare normalized correlations and mean coefficients\n",
    "comparison_df = pd.DataFrame({'Correlation with Y': correlations_normalized, 'Mean Coefficients': mean_coefficients_normalized})\n",
    "\n",
    "# Plot the comparison\n",
    "comparison_df.plot(kind='bar', figsize=(10, 7))\n",
    "plt.title('Comparison of Normalized Correlations and Mean Coefficients')\n",
    "plt.ylabel('Normalized Values')\n",
    "plt.xlabel('Features')\n",
    "plt.axhline(y=0, color='.5')\n",
    "plt.subplots_adjust(left=.3)\n",
    "plt.show()\n",
    "\n",
    "\n",
    "# Calculate the mean of coefficients from the cross-validation results\n",
    "mean_coefficients = coefs.mean()\n",
    "\n",
    "# Print correlations and mean coefficients\n",
    "for feature in correlations_with_Y.index:\n",
    "    correlation = correlations_with_Y[feature]\n",
    "    coefficient = mean_coefficients[feature]\n",
    "    print(f\"Feature: {feature}\")\n",
    "    print(f\"Correlation with Y: {correlation:.3f}\")\n",
    "    print(f\"Mean Coefficient: {coefficient:.3f}\")\n",
    "    print(\"-\" * 30)\n",
    "\n"
   ]
  },
  {
   "cell_type": "markdown",
   "metadata": {},
   "source": [
    "### Exercise 2\n",
    "\n",
    "Q: Try fitting a linear regression model to a subset of the features. To do this, select 3-4 columns from the `nX` dataframe to use when constructing the train-test split, then fit the model parameters to this new training data as before. Describe how you selected your subset of features. Did the model coefficients for your chosen features turn out to be similar or different to those in the full model? (If there is a difference, explain why).\n",
    "\n",
    "A: We selected the following features based on domain knowledge or analysis: 'BP' (blood pressure), 'BMI' (body mass index), 'S4' (serum measurement 4), and 'S5' (serum measurement 5). These features were chosen as they are commonly associated with health and have shown significant correlations with the target variable 'Y' in previous analyses.\n",
    "The subset model exhibited  lower R^2 value in comparison, suggesting a reduced ability to explain the variance in the target variable 'Y.' Specifically, the subset model explained 45.8% of the variance in the testing data, which is lower than the full model's performance (around 46.9%).\n",
    "Differences in the coefficients between the two models is beacause of selective emphasi on specific features within our model which emphasizes the importance of the chosen variables while potentially downplaying the significance of other variables. "
   ]
  },
  {
   "cell_type": "code",
   "execution_count": 18,
   "metadata": {},
   "outputs": [
    {
     "data": {
      "text/html": [
       "<div>\n",
       "<style scoped>\n",
       "    .dataframe tbody tr th:only-of-type {\n",
       "        vertical-align: middle;\n",
       "    }\n",
       "\n",
       "    .dataframe tbody tr th {\n",
       "        vertical-align: top;\n",
       "    }\n",
       "\n",
       "    .dataframe thead th {\n",
       "        text-align: right;\n",
       "    }\n",
       "</style>\n",
       "<table border=\"1\" class=\"dataframe\">\n",
       "  <thead>\n",
       "    <tr style=\"text-align: right;\">\n",
       "      <th></th>\n",
       "      <th>R^2</th>\n",
       "      <th>RMSE</th>\n",
       "      <th>MAE</th>\n",
       "    </tr>\n",
       "  </thead>\n",
       "  <tbody>\n",
       "    <tr>\n",
       "      <th>train</th>\n",
       "      <td>0.483519</td>\n",
       "      <td>54.941299</td>\n",
       "      <td>45.274642</td>\n",
       "    </tr>\n",
       "    <tr>\n",
       "      <th>test</th>\n",
       "      <td>0.458139</td>\n",
       "      <td>57.596763</td>\n",
       "      <td>48.385362</td>\n",
       "    </tr>\n",
       "  </tbody>\n",
       "</table>\n",
       "</div>"
      ],
      "text/plain": [
       "            R^2       RMSE        MAE\n",
       "train  0.483519  54.941299  45.274642\n",
       "test   0.458139  57.596763  48.385362"
      ]
     },
     "execution_count": 18,
     "metadata": {},
     "output_type": "execute_result"
    }
   ],
   "source": [
    "# Select a subset of features (e.g., 'BP', 'BMI', 'S4', 'S5') based on domain knowledge or analysis\n",
    "subset_features = nX[['BP', 'BMI', 'S4', 'S5']]\n",
    "\n",
    "# Split the data into training and testing sets using the subset of features\n",
    "X_train_subset, X_test_subset, Y_train, Y_test = train_test_split(\n",
    "    subset_features, Y, test_size=0.2,\n",
    "    random_state=np.random.RandomState(31287)\n",
    ")\n",
    "\n",
    "# Fit the linear regression model to the training data\n",
    "linear_subset = LinearRegression()\n",
    "linear_subset.fit(X_train_subset, Y_train)\n",
    "\n",
    "# Evaluate model performance on the testing data\n",
    "training_predictions_subset = linear_subset.predict(X_train_subset)\n",
    "testing_predictions_subset = linear_subset.predict(X_test_subset)\n",
    "\n",
    "# Create a table of the various scores for the subset model\n",
    "pd.DataFrame({\n",
    "    \"R^2\": {\n",
    "        \"train\": r2_score(Y_train, training_predictions_subset),\n",
    "        \"test\": r2_score(Y_test, testing_predictions_subset)\n",
    "    },\n",
    "    \"RMSE\": {\n",
    "        \"train\": mean_squared_error(Y_train, training_predictions_subset, squared=False),\n",
    "        \"test\": mean_squared_error(Y_test, testing_predictions_subset, squared=False),\n",
    "    },\n",
    "    \"MAE\": {\n",
    "        \"train\": mean_absolute_error(Y_train, training_predictions_subset),\n",
    "        \"test\": mean_absolute_error(Y_test, testing_predictions_subset),\n",
    "    },\n",
    "})\n"
   ]
  },
  {
   "cell_type": "markdown",
   "metadata": {},
   "source": [
    "### Exercise 3 (Bonus!)\n",
    "\n",
    "Q: Repeat the k-fold cross-validation test for coefficient variability, but first remove the feature 'S2' from the dataset. Observe the impact on the coefficients for the other features. In particular, look at the coefficient for 'S1'. You should see that the range of values produced for the S1 coefficient is much narrower. Can you think of a reason why this is the case (consider the mathematical form of the model)?\n",
    "\n",
    "A: Removing 'S2' from our linear regression model helped  narrow the range of values of'S1' coefficient and making it more reliable. This was due to the removal of potential variablity between 'S1' and 'S2,' simplifying the model and emphasizing the importance of considering feature interactions in understanding coefficient variability in linear regression."
   ]
  },
  {
   "cell_type": "code",
   "execution_count": 20,
   "metadata": {},
   "outputs": [
    {
     "data": {
      "image/png": "[encoded data removed]",
      "text/plain": [
       "<Figure size 720x504 with 1 Axes>"
      ]
     },
     "metadata": {
      "needs_background": "light"
     },
     "output_type": "display_data"
    }
   ],
   "source": [
    "# This task is worth 2 bonus marks.\n",
    "# Remove 'S2' from the dataset\n",
    "nX_no_S2 = nX.drop('S2', axis=1)\n",
    "\n",
    "# Perform k-fold cross-validation on the dataset without 'S2'\n",
    "scores_no_S2 = cross_validate(\n",
    "    linear, nX_no_S2, Y,\n",
    "    cv=RepeatedKFold(n_splits=5, n_repeats=5, random_state=np.random.RandomState(2351786)),\n",
    "    return_estimator=True,\n",
    ")\n",
    "\n",
    "# Extract the coefficients for each run without 'S2' and add them to a dataframe\n",
    "coefs_no_S2 = pd.DataFrame([est.coef_ for est in scores_no_S2['estimator']], columns=nX_no_S2.columns)\n",
    "\n",
    "# Plot the descriptive statistics of the coefficients without 'S2'\n",
    "ax = coefs_no_S2.plot(kind='box', figsize=(10, 7))\n",
    "plt.title('Linear Regression without Feature S2')\n",
    "plt.axhline(y=0, color='.5')\n",
    "plt.subplots_adjust(left=.3)\n",
    "plt.show()\n"
   ]
  },
  {
   "cell_type": "code",
   "execution_count": null,
   "metadata": {},
   "outputs": [],
   "source": []
  }
 ],
 "metadata": {
  "kernelspec": {
   "display_name": "Python 3",
   "language": "python",
   "name": "python3"
  },
  "language_info": {
   "codemirror_mode": {
    "name": "ipython",
    "version": 3
   },
   "file_extension": ".py",
   "mimetype": "text/x-python",
   "name": "python",
   "nbconvert_exporter": "python",
   "pygments_lexer": "ipython3",
   "version": "3.7.6"
  }
 },
 "nbformat": 4,
 "nbformat_minor": 4
}
